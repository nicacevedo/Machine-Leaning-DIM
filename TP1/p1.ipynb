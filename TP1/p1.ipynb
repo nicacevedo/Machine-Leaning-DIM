{
 "metadata": {
  "language_info": {
   "codemirror_mode": {
    "name": "ipython",
    "version": 3
   },
   "file_extension": ".py",
   "mimetype": "text/x-python",
   "name": "python",
   "nbconvert_exporter": "python",
   "pygments_lexer": "ipython3",
   "version": "3.8.5-final"
  },
  "orig_nbformat": 2,
  "kernelspec": {
   "name": "python385jvsc74a57bd0da9551fb09cd86cf3e2b1a46fa67e91e9248053f571e7f133b915fd584daba2d",
   "display_name": "Python 3.8.5 64-bit (conda)"
  }
 },
 "nbformat": 4,
 "nbformat_minor": 2,
 "cells": [
  {
   "cell_type": "code",
   "execution_count": 342,
   "metadata": {},
   "outputs": [
    {
     "output_type": "execute_result",
     "data": {
      "text/plain": [
       "    Outlook  Temperature  Humidity  Windy Play\n",
       "0     Sunny         30.5        90  False   No\n",
       "1     Sunny         29.0        82   True   No\n",
       "2  Overcast         28.2        95  False  Yes\n",
       "3      Rain         21.0        86  False  Yes\n",
       "4      Rain          5.3        60  False  Yes"
      ],
      "text/html": "<div>\n<style scoped>\n    .dataframe tbody tr th:only-of-type {\n        vertical-align: middle;\n    }\n\n    .dataframe tbody tr th {\n        vertical-align: top;\n    }\n\n    .dataframe thead th {\n        text-align: right;\n    }\n</style>\n<table border=\"1\" class=\"dataframe\">\n  <thead>\n    <tr style=\"text-align: right;\">\n      <th></th>\n      <th>Outlook</th>\n      <th>Temperature</th>\n      <th>Humidity</th>\n      <th>Windy</th>\n      <th>Play</th>\n    </tr>\n  </thead>\n  <tbody>\n    <tr>\n      <th>0</th>\n      <td>Sunny</td>\n      <td>30.5</td>\n      <td>90</td>\n      <td>False</td>\n      <td>No</td>\n    </tr>\n    <tr>\n      <th>1</th>\n      <td>Sunny</td>\n      <td>29.0</td>\n      <td>82</td>\n      <td>True</td>\n      <td>No</td>\n    </tr>\n    <tr>\n      <th>2</th>\n      <td>Overcast</td>\n      <td>28.2</td>\n      <td>95</td>\n      <td>False</td>\n      <td>Yes</td>\n    </tr>\n    <tr>\n      <th>3</th>\n      <td>Rain</td>\n      <td>21.0</td>\n      <td>86</td>\n      <td>False</td>\n      <td>Yes</td>\n    </tr>\n    <tr>\n      <th>4</th>\n      <td>Rain</td>\n      <td>5.3</td>\n      <td>60</td>\n      <td>False</td>\n      <td>Yes</td>\n    </tr>\n  </tbody>\n</table>\n</div>"
     },
     "metadata": {},
     "execution_count": 342
    }
   ],
   "source": [
    "import pandas as pd\n",
    "import numpy as np \n",
    "data_train = pd.read_csv(\"data_golf_train.csv\")\n",
    "data_train.head()\n"
   ]
  },
  {
   "cell_type": "code",
   "execution_count": 345,
   "metadata": {},
   "outputs": [],
   "source": [
    "# guardamos las probabilidades para cada combinación P(x_j|c_i)\n",
    "P = {} # se puede mejorar formato\n",
    "P[\"Play\"] = data_train[\"Play\"].value_counts()/data_train[\"Play\"].shape\n",
    "\n",
    "# vemos las clases que tenemos\n",
    "for c_i in data_train[\"Play\"].unique():\n",
    "    # condicionamos la base a las observaciones de la clase a evaluar\n",
    "    data_cond = data_train[data_train[\"Play\"]==c_i]\n",
    "    # revisamos los atributos restante para obtener su distribución\n",
    "    for x_j in data_cond.drop([\"Play\"],axis=1):\n",
    "        # si es categórica vemos la fecuencia de cada valor\n",
    "        if data_train[x_j].dtypes == object or data_train[x_j].dtypes == bool:\n",
    "            P[x_j,c_i] = data_cond[x_j].value_counts()/data_cond[x_j].shape\n",
    "        # si es numérica vemos los parámetros de la normal\n",
    "        if data_train[x_j].dtypes == \"int64\" or data_train[x_j].dtypes == float:\n",
    "            P[x_j,c_i] = np.mean(data_cond[x_j]),np.std(data_cond[x_j])\n"
   ]
  },
  {
   "cell_type": "code",
   "execution_count": 347,
   "metadata": {},
   "outputs": [
    {
     "output_type": "execute_result",
     "data": {
      "text/plain": [
       "  Outlook  Temperature  Humidity  Windy\n",
       "0   Sunny           20        50  False\n",
       "1   Sunny           30        50   True\n",
       "2    Rain           10        60  False\n",
       "3    Rain           20        60   True"
      ],
      "text/html": "<div>\n<style scoped>\n    .dataframe tbody tr th:only-of-type {\n        vertical-align: middle;\n    }\n\n    .dataframe tbody tr th {\n        vertical-align: top;\n    }\n\n    .dataframe thead th {\n        text-align: right;\n    }\n</style>\n<table border=\"1\" class=\"dataframe\">\n  <thead>\n    <tr style=\"text-align: right;\">\n      <th></th>\n      <th>Outlook</th>\n      <th>Temperature</th>\n      <th>Humidity</th>\n      <th>Windy</th>\n    </tr>\n  </thead>\n  <tbody>\n    <tr>\n      <th>0</th>\n      <td>Sunny</td>\n      <td>20</td>\n      <td>50</td>\n      <td>False</td>\n    </tr>\n    <tr>\n      <th>1</th>\n      <td>Sunny</td>\n      <td>30</td>\n      <td>50</td>\n      <td>True</td>\n    </tr>\n    <tr>\n      <th>2</th>\n      <td>Rain</td>\n      <td>10</td>\n      <td>60</td>\n      <td>False</td>\n    </tr>\n    <tr>\n      <th>3</th>\n      <td>Rain</td>\n      <td>20</td>\n      <td>60</td>\n      <td>True</td>\n    </tr>\n  </tbody>\n</table>\n</div>"
     },
     "metadata": {},
     "execution_count": 347
    }
   ],
   "source": [
    "data_test = pd.read_csv(\"data_golf_test.csv\")\n",
    "data_test.head()"
   ]
  },
  {
   "cell_type": "code",
   "execution_count": 348,
   "metadata": {},
   "outputs": [],
   "source": [
    "def pdf_norm(u,sigma,x):\n",
    "    return np.exp((-(x-u)**2)/(2*sigma**2))/(sigma*(2*np.pi))"
   ]
  },
  {
   "source": [
    "\n",
    "# Predicciones\n",
    "def naive_bayes(df):\n",
    "    # argmax de map\n",
    "    K = []\n",
    "\n",
    "    for index, row in df.iterrows():\n",
    "        # guardamos los valores del map (creo que es el map)\n",
    "        MAP_j = [[],[]]\n",
    "        # vemos las clases que podemos predecir\n",
    "        for c_i in data_train[\"Play\"].unique():\n",
    "            # vemos el map que obtendriamos en cada clase\n",
    "            map_i = P[\"Play\"][c_i] # partimos con el término P(c_i)\n",
    "            for x_j in df.columns:\n",
    "                # vamos multiplicado los P(x_j|c_i) según corresponda\n",
    "\n",
    "                #categórica\n",
    "                if type(row[x_j]) == str or type(row[x_j]) == bool:\n",
    "                    if row[x_j] in P[x_j,c_i]:\n",
    "                        map_i *= P[x_j,c_i][row[x_j]]\n",
    "                    # si no existe la combinación p=0\n",
    "                    else: \n",
    "                        map_i = 0     \n",
    "                #numérica\n",
    "                if type(row[x_j]) == int or type(row[x_j]) == float:\n",
    "                    map_i *= pdf_norm(P[x_j,c_i][0],P[x_j,c_i][1],row[x_j])\n",
    "\n",
    "            # guardamos: \n",
    "            MAP_j[0].append(map_i) # map de la clase c_i\n",
    "            MAP_j[1].append(c_i) # clase c_i\n",
    "        # elegimos la clase que maximiza la función MAP\n",
    "        K.append(MAP_j[1][np.argmax(MAP_j[0])])\n",
    "    return K\n"
   ],
   "cell_type": "code",
   "metadata": {},
   "execution_count": 362,
   "outputs": []
  },
  {
   "cell_type": "code",
   "execution_count": 366,
   "metadata": {},
   "outputs": [
    {
     "output_type": "execute_result",
     "data": {
      "text/plain": [
       "['Yes', 'Yes', 'Yes', 'Yes']"
      ]
     },
     "metadata": {},
     "execution_count": 366
    }
   ],
   "source": [
    "naive_bayes(data_test)\n",
    "#naive_bayes(data_train.drop([\"Play\"],axis=1))"
   ]
  },
  {
   "cell_type": "code",
   "execution_count": 358,
   "metadata": {},
   "outputs": [],
   "source": [
    "from sklearn.linear_model import LogisticRegression\n",
    "#expresamos las variables categóricas de forma numérica\n",
    "\n",
    "#hacemos dummies de Outlook, Windy y Play\n",
    "data_train_num = pd.get_dummies(data_train,columns=[\"Outlook\",\"Windy\",\"Play\"])\n",
    "data_test_num = pd.get_dummies(data_test,columns=[\"Outlook\",\"Windy\"])\n",
    "\n",
    "\n",
    "# sacamos una columna para cada categoría, cosa que no hayan problemas de dependecia lineal\n",
    "# notar que data_test no tiene ningún valor de Overcast, por lo que no es necesario sacar la columna ya que no fue creada\n",
    "data_train_num = data_train_num.drop([\"Outlook_Overcast\",\"Windy_False\",\"Play_No\"],axis=1)\n",
    "data_test_num = data_test_num.drop([\"Windy_False\"],axis=1)\n"
   ]
  },
  {
   "cell_type": "code",
   "execution_count": 367,
   "metadata": {},
   "outputs": [
    {
     "output_type": "execute_result",
     "data": {
      "text/plain": [
       "array([1, 1, 1, 1], dtype=uint8)"
      ]
     },
     "metadata": {},
     "execution_count": 367
    }
   ],
   "source": [
    "reg = LogisticRegression().fit(data_train_num.drop([\"Play_Yes\"],axis=1), data_train_num[\"Play_Yes\"])\n",
    "reg.predict(data_test_num)"
   ]
  }
 ]
}